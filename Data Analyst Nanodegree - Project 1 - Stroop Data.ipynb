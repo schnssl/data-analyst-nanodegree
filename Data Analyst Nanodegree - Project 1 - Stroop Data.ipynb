{
 "cells": [
  {
   "cell_type": "markdown",
   "metadata": {},
   "source": [
    "# Stroop Test\n",
    "\n",
    "### Introduction:\n",
    "\n",
    "This project will examine the results of a Stroop test. For more information, see: https://en.wikipedia.org/wiki/Stroop_effect.\n",
    "\n",
    "The independent variable in this study is whether the colors of the words are congruent or incongruent. The dependent variable is the time individuals take to correctly identify the colors of the words.\n",
    "\n",
    "The null hypothesis of this experiment is that the sample mean of the congruent results = the sample mean of the incongruent results. The alternative hypothesis is that the sample mean of the congruent results < the sample mean of the incongruent results. \n",
    "\n",
    "A one-tailed, dependent, two-sample t-test will be performed to decide whether there is statistical evidence to accept or reject the null. \n",
    "\n",
    "A two-sample t-test is the appropriate hypothesis test due to the repeated measures design of the experiment (the same subjects are present in both samples, under different conditions), and only the sample parameters (rather than the population parameters) are known. The directionality of the test is chosen because it is reasonable to assume that words written in the color that they describe will be easier to identify than words describing a color different from that they are written in."
   ]
  },
  {
   "cell_type": "markdown",
   "metadata": {},
   "source": [
    "### Descriptive Statistics:"
   ]
  },
  {
   "cell_type": "code",
   "execution_count": 1,
   "metadata": {
    "collapsed": false
   },
   "outputs": [],
   "source": [
    "#Import dataset to python\n",
    "import csv\n",
    "\n",
    "with open(\"C:\\\\Users\\\\Josh\\\\Documents\\\\stroopdata.csv\") as f:\n",
    "    #skip header row\n",
    "    next(f)\n",
    "    document = csv.reader(f)\n",
    "    congruent = []\n",
    "    incongruent = []\n",
    "    for row in document:\n",
    "        congruent.append(float(row[0]))\n",
    "        incongruent.append(float(row[1]))"
   ]
  },
  {
   "cell_type": "code",
   "execution_count": 6,
   "metadata": {
    "collapsed": false
   },
   "outputs": [
    {
     "name": "stdout",
     "output_type": "stream",
     "text": [
      "The mean of the congruent results is 14.051125. The mean of the incongruent results is 22.015917.\n",
      "The median of the congruent results is 14.356500. The median of the incongruent results is 21.017500.\n",
      "The variance of the congruent results is 12.669029. The variance of the incongruent results is 23.011757.\n",
      "The standard deviation of the congruent results is 3.559358. The standard deviation of the incongruent results is 4.797057.\n"
     ]
    }
   ],
   "source": [
    "#report descriptive statistics\n",
    "import statistics as stats\n",
    "\n",
    "meanC, meanI = stats.mean(congruent), stats.mean(incongruent)\n",
    "medianC, medianI = stats.median(congruent), stats.median(incongruent)\n",
    "\n",
    "print(\"The mean of the congruent results is %f. The mean of the incongruent results is %f.\" % (meanC, meanI))\n",
    "print(\"The median of the congruent results is %f. The median of the incongruent results is %f.\" % (medianC, medianI))\n",
    "\n",
    "varC, varI = stats.variance(congruent), stats.variance(incongruent)\n",
    "sC, sI = stats.stdev(congruent), stats.stdev(incongruent)\n",
    "\n",
    "print(\"The variance of the congruent results is %f. The variance of the incongruent results is %f.\" % (varC, varI))\n",
    "print(\"The standard deviation of the congruent results is %f. The standard deviation of the incongruent results is %f.\" % (sC, sI))"
   ]
  },
  {
   "cell_type": "code",
   "execution_count": 3,
   "metadata": {
    "collapsed": false
   },
   "outputs": [
    {
     "data": {
      "image/png": "[encoded data removed]",
      "text/plain": [
       "<matplotlib.figure.Figure at 0xf71dab1978>"
      ]
     },
     "metadata": {},
     "output_type": "display_data"
    },
    {
     "data": {
      "image/png": "[encoded data removed]",
      "text/plain": [
       "<matplotlib.figure.Figure at 0xf719444198>"
      ]
     },
     "metadata": {},
     "output_type": "display_data"
    }
   ],
   "source": [
    "#plot histograms of data to visualize distributions\n",
    "%matplotlib inline\n",
    "\n",
    "import matplotlib.pyplot as plt\n",
    "\n",
    "bins = 8\n",
    "plt.hist(congruent, bins, normed = 1)\n",
    "plt.xlabel(\"Time to Name Colors\")\n",
    "plt.ylabel(\"Frequency\")\n",
    "plt.title(\"Histogram of Congruent Stroop Test\")\n",
    "plt.show()\n",
    "\n",
    "bins = 8\n",
    "plt.hist(incongruent, bins, normed = 1)\n",
    "plt.xlabel(\"Time to Name Colors\")\n",
    "plt.ylabel(\"Frequency\")\n",
    "plt.title(\"Histogram of Incongruent Stroop Test\")\n",
    "plt.show()"
   ]
  },
  {
   "cell_type": "markdown",
   "metadata": {},
   "source": [
    "### Analysis and Results:"
   ]
  },
  {
   "cell_type": "code",
   "execution_count": 5,
   "metadata": {
    "collapsed": false
   },
   "outputs": [
    {
     "name": "stdout",
     "output_type": "stream",
     "text": [
      "The t-statistic is -8.020707. The probability is 0.000000.\n",
      "We have chosen an alpha level of 0.050000 in one-tail.\n",
      "The t-critical value is -1.678660.\n",
      "Reject the null hypothesis. The difference between the time taken to identify congruent and incongruent colors is significant at p = 0.000000.\n"
     ]
    }
   ],
   "source": [
    "#perform one-tailed two-sample t-test\n",
    "from scipy import stats as st\n",
    "\n",
    "t, p = st.ttest_rel(congruent,incongruent)\n",
    "p *= 2\n",
    "\n",
    "print(\"The t-statistic is %f. The probability is %f.\" % (t, p))\n",
    "\n",
    "alpha = 0.05\n",
    "print(\"We have chosen an alpha level of %f in one-tail.\" % alpha)\n",
    "df = len(congruent) + len(incongruent) - 2\n",
    "t_critical = st.t.ppf(alpha,df)\n",
    "print(\"The t-critical value is %f.\" % t_critical)\n",
    "\n",
    "if p < alpha:\n",
    "    print (\"Reject the null hypothesis. The difference between the time taken to identify congruent and incongruent colors is \\\n",
    "significant at p = %f.\" % p)\n",
    "else:\n",
    "    print (\"Retain the null hypothesis. The difference between the time taken to identify congruent and incongruent colors is \\\n",
    "not significant at p < %f.\" % alpha)"
   ]
  },
  {
   "cell_type": "markdown",
   "metadata": {},
   "source": [
    "### Conclusion:\n",
    "\n",
    "Following the result of the t-test, there is a statistically significant diffence between the sample means of congruent color results and incongruent color results. This suggests that people have a more difficult time identifying colors that words represent when those words are written in colors that they do not describe. This confirms my initial suspicions that the incongruent portion of the Stroop test would be more challenging."
   ]
  }
 ],
 "metadata": {
  "anaconda-cloud": {},
  "kernelspec": {
   "display_name": "Python [conda root]",
   "language": "python",
   "name": "conda-root-py"
  },
  "language_info": {
   "codemirror_mode": {
    "name": "ipython",
    "version": 3
   },
   "file_extension": ".py",
   "mimetype": "text/x-python",
   "name": "python",
   "nbconvert_exporter": "python",
   "pygments_lexer": "ipython3",
   "version": "3.5.2"
  }
 },
 "nbformat": 4,
 "nbformat_minor": 0
}
